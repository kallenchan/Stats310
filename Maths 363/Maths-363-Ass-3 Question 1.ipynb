{
 "cells": [
  {
   "cell_type": "code",
   "execution_count": 4,
   "metadata": {},
   "outputs": [],
   "source": [
    "from scipy.io import loadmat\n",
    "import numpy as np\n",
    "from matplotlib import pyplot as plt\n",
    "\n",
    "import scipy.stats as stats\n",
    "import math"
   ]
  },
  {
   "cell_type": "code",
   "execution_count": 5,
   "metadata": {},
   "outputs": [],
   "source": [
    "annots=loadmat('363A3Q1.mat')"
   ]
  },
  {
   "cell_type": "markdown",
   "metadata": {},
   "source": [
    "# (b)"
   ]
  },
  {
   "cell_type": "code",
   "execution_count": 62,
   "metadata": {},
   "outputs": [],
   "source": [
    "t=np.array(annots['t']).T\n",
    "y=np.array(annots['y']).T\n",
    "ones=np.ones(t.size).T\n"
   ]
  },
  {
   "cell_type": "code",
   "execution_count": 68,
   "metadata": {},
   "outputs": [
    {
     "data": {
      "text/plain": [
       "array([[1.        , 0.        , 1.        ],\n",
       "       [1.        , 0.05      , 0.90483742],\n",
       "       [1.        , 0.1       , 0.81873075],\n",
       "       [1.        , 0.15      , 0.74081822],\n",
       "       [1.        , 0.2       , 0.67032005],\n",
       "       [1.        , 0.25      , 0.60653066],\n",
       "       [1.        , 0.3       , 0.54881164],\n",
       "       [1.        , 0.35      , 0.4965853 ],\n",
       "       [1.        , 0.4       , 0.44932896],\n",
       "       [1.        , 0.45      , 0.40656966],\n",
       "       [1.        , 0.5       , 0.36787944],\n",
       "       [1.        , 0.55      , 0.33287108],\n",
       "       [1.        , 0.6       , 0.30119421],\n",
       "       [1.        , 0.65      , 0.27253179],\n",
       "       [1.        , 0.7       , 0.24659696],\n",
       "       [1.        , 0.75      , 0.22313016],\n",
       "       [1.        , 0.8       , 0.20189652],\n",
       "       [1.        , 0.85      , 0.18268352],\n",
       "       [1.        , 0.9       , 0.16529889],\n",
       "       [1.        , 0.95      , 0.14956862],\n",
       "       [1.        , 1.        , 0.13533528]])"
      ]
     },
     "execution_count": 68,
     "metadata": {},
     "output_type": "execute_result"
    }
   ],
   "source": [
    "A=np.vstack((ones,t,np.exp(-2*t))).T\n",
    "A"
   ]
  },
  {
   "cell_type": "code",
   "execution_count": 70,
   "metadata": {},
   "outputs": [
    {
     "data": {
      "text/plain": [
       "array([[21.        , 10.5       ,  9.22151915],\n",
       "       [10.5       ,  7.175     ,  3.03290982],\n",
       "       [ 9.22151915,  3.03290982,  5.43393013]])"
      ]
     },
     "execution_count": 70,
     "metadata": {},
     "output_type": "execute_result"
    }
   ],
   "source": [
    "np.matmul(A.T,A)"
   ]
  },
  {
   "cell_type": "code",
   "execution_count": 71,
   "metadata": {},
   "outputs": [
    {
     "data": {
      "text/plain": [
       "array([[ 3.13093964],\n",
       "       [-1.01907675],\n",
       "       [ 1.87495549]])"
      ]
     },
     "execution_count": 71,
     "metadata": {},
     "output_type": "execute_result"
    }
   ],
   "source": [
    "AT_A=np.matmul(A.T,A)\n",
    "AT_Y=np.matmul(A.T,y.T)\n",
    "x_LS=np.matmul(np.linalg.inv(AT_A),AT_Y)\n",
    "x_LS"
   ]
  },
  {
   "cell_type": "code",
   "execution_count": 72,
   "metadata": {},
   "outputs": [
    {
     "data": {
      "text/plain": [
       "(21, 3)"
      ]
     },
     "execution_count": 72,
     "metadata": {},
     "output_type": "execute_result"
    }
   ],
   "source": [
    "#Check the shape of our matrices\n",
    "x_LS.shape\n",
    "A.shape"
   ]
  },
  {
   "cell_type": "code",
   "execution_count": 73,
   "metadata": {},
   "outputs": [
    {
     "data": {
      "text/plain": [
       "array([[ 0.04787159],\n",
       "       [ 0.16654765],\n",
       "       [-0.25253886],\n",
       "       [ 0.05077446],\n",
       "       [-0.01142792],\n",
       "       [-0.18109595],\n",
       "       [-0.09994993],\n",
       "       [-0.02790506],\n",
       "       [ 0.29071688],\n",
       "       [ 0.20542791],\n",
       "       [-0.21038865],\n",
       "       [ 0.22466862],\n",
       "       [-0.00929048],\n",
       "       [-0.09076664],\n",
       "       [-0.01527603],\n",
       "       [-0.10922748],\n",
       "       [-0.10284662],\n",
       "       [ 0.05708893],\n",
       "       [ 0.0478026 ],\n",
       "       [ 0.04760525],\n",
       "       [-0.02779024]])"
      ]
     },
     "execution_count": 73,
     "metadata": {},
     "output_type": "execute_result"
    }
   ],
   "source": [
    "r=y.T-np.matmul(A,x_LS)\n",
    "r"
   ]
  },
  {
   "cell_type": "code",
   "execution_count": 74,
   "metadata": {},
   "outputs": [],
   "source": [
    "r=y.T-np.matmul(A,x_LS)\n",
    "sigmaSquare=np.sum(r**2)/(21-3)"
   ]
  },
  {
   "cell_type": "code",
   "execution_count": 75,
   "metadata": {},
   "outputs": [],
   "source": [
    "gamma_LS=sigmaSquare*np.linalg.inv(AT_A)"
   ]
  },
  {
   "cell_type": "code",
   "execution_count": null,
   "metadata": {},
   "outputs": [],
   "source": []
  },
  {
   "cell_type": "code",
   "execution_count": 78,
   "metadata": {},
   "outputs": [
    {
     "name": "stderr",
     "output_type": "stream",
     "text": [
      "C:\\Users\\5CD94928JO\\anaconda3\\lib\\site-packages\\ipykernel_launcher.py:2: FutureWarning: `rcond` parameter will change to the default of machine precision times ``max(M, N)`` where M and N are the input matrix dimensions.\n",
      "To use the future default and silence this warning we advise to pass `rcond=None`, to keep using the old, explicitly pass `rcond=-1`.\n",
      "  \n"
     ]
    },
    {
     "data": {
      "text/plain": [
       "array([[ 3.13093964],\n",
       "       [-1.01907675],\n",
       "       [ 1.87495549]])"
      ]
     },
     "execution_count": 78,
     "metadata": {},
     "output_type": "execute_result"
    }
   ],
   "source": [
    "#Check Answer Using Package Function\n",
    "np.linalg.lstsq(A,y.T)[0]\n"
   ]
  },
  {
   "cell_type": "markdown",
   "metadata": {},
   "source": [
    "# (c)"
   ]
  },
  {
   "cell_type": "code",
   "execution_count": 79,
   "metadata": {},
   "outputs": [],
   "source": [
    "def prediction(t):\n",
    "    V=np.array([1,t,np.exp(-2*t)])\n",
    "    prediction=np.matmul(V,x_LS)\n",
    "    return prediction\n",
    "\n",
    "def predictionStDev(t):\n",
    "    V=np.array([1,t,np.exp(-2*t)])\n",
    "    StDev=np.matmul(np.matmul(V,gamma_LS),V.T)**0.5\n",
    "    return StDev\n"
   ]
  },
  {
   "cell_type": "code",
   "execution_count": 80,
   "metadata": {},
   "outputs": [
    {
     "data": {
      "text/plain": [
       "array([[0.97405332],\n",
       "       [2.4172928 ]])"
      ]
     },
     "execution_count": 80,
     "metadata": {},
     "output_type": "execute_result"
    }
   ],
   "source": [
    "#Three Standard Deviation Intervals\n",
    "np.array([prediction(1.5)-3*predictionStDev(1.5),prediction(1.5)+3*predictionStDev(1.5)])"
   ]
  },
  {
   "cell_type": "code",
   "execution_count": null,
   "metadata": {},
   "outputs": [],
   "source": []
  },
  {
   "cell_type": "code",
   "execution_count": 81,
   "metadata": {},
   "outputs": [
    {
     "data": {
      "text/plain": [
       "array([-1.01907675])"
      ]
     },
     "execution_count": 81,
     "metadata": {},
     "output_type": "execute_result"
    }
   ],
   "source": [
    "x_LS[1]\n",
    "# gamma_LS[0,0]"
   ]
  },
  {
   "cell_type": "markdown",
   "metadata": {},
   "source": [
    "# (d)"
   ]
  },
  {
   "cell_type": "code",
   "execution_count": 82,
   "metadata": {},
   "outputs": [
    {
     "data": {
      "text/plain": [
       "<matplotlib.legend.Legend at 0x2409b357108>"
      ]
     },
     "execution_count": 82,
     "metadata": {},
     "output_type": "execute_result"
    },
    {
     "data": {
      "image/png": "[encoded data removed]",
      "text/plain": [
       "<Figure size 432x288 with 1 Axes>"
      ]
     },
     "metadata": {
      "needs_background": "light"
     },
     "output_type": "display_data"
    }
   ],
   "source": [
    "#Alpha0\n",
    "mu0 = x_LS[0]\n",
    "variance0 = gamma_LS[0,0]\n",
    "sigma0 = math.sqrt(variance0)\n",
    "x = np.linspace(mu0 - 3*sigma0, mu0 + 3*sigma0, 100)\n",
    "plt.plot(x, stats.norm.pdf(x, mu0, sigma0))\n",
    "plt.xlim(-10,10)\n",
    "\n",
    "#Alpha1\n",
    "mu1 = x_LS[1]\n",
    "variance1 = gamma_LS[1,1]\n",
    "sigma1 = math.sqrt(variance1)\n",
    "x = np.linspace(mu1 - 3*sigma1, mu1 + 3*sigma1, 100)\n",
    "plt.plot(x, stats.norm.pdf(x, mu1, sigma1))\n",
    "\n",
    "#Alpha3\n",
    "mu2 = x_LS[2]\n",
    "variance2 = gamma_LS[1,1]\n",
    "sigma2 = math.sqrt(variance2)\n",
    "x = np.linspace(mu2 - 3*sigma2, mu2 + 3*sigma2, 100)\n",
    "plt.plot(x, stats.norm.pdf(x, mu2, sigma2))\n",
    "\n",
    "\n",
    "\n",
    "#Format our plot\n",
    "plt.title(\"Marginal Density for Estimated Parameters\")\n",
    "plt.ylabel(\"density\")\n",
    "plt.legend(['Alpha0','Alpha1'])"
   ]
  },
  {
   "cell_type": "code",
   "execution_count": 83,
   "metadata": {},
   "outputs": [],
   "source": [
    "#Generate values for plotting our prediction interval\n",
    "tvalues=np.linspace(start=0,stop=2,num=41)\n",
    "ypredline=np.array([prediction(t) for t in tvalues])\n",
    "ypredUpperInterval=np.array([prediction(t) + 3*predictionStDev(t) for t in tvalues])\n",
    "ypredLowerInterval=np.array([prediction(t) - 3*predictionStDev(t) for t in tvalues])"
   ]
  },
  {
   "cell_type": "code",
   "execution_count": null,
   "metadata": {},
   "outputs": [],
   "source": []
  },
  {
   "cell_type": "code",
   "execution_count": 84,
   "metadata": {},
   "outputs": [
    {
     "data": {
      "text/plain": [
       "Text(0, 0.5, 'y')"
      ]
     },
     "execution_count": 84,
     "metadata": {},
     "output_type": "execute_result"
    },
    {
     "data": {
      "image/png": "[encoded data removed]",
      "text/plain": [
       "<Figure size 432x288 with 1 Axes>"
      ]
     },
     "metadata": {
      "needs_background": "light"
     },
     "output_type": "display_data"
    }
   ],
   "source": [
    "#Plot our Observed t and y values\n",
    "plt.scatter(t,y)\n",
    "\n",
    "#Plot our Predictions\n",
    "plt.plot(tvalues,ypredline,color='red')\n",
    "plt.plot(tvalues,ypredUpperInterval,color='grey',linestyle='--')\n",
    "plt.plot(tvalues,ypredLowerInterval,color='grey',linestyle='--')\n",
    "\n",
    "#Format Our Plot\n",
    "plt.xlim(0,2)\n",
    "plt.ylim(0,6)\n",
    "plt.xlabel(\"t\")\n",
    "plt.ylabel(\"y\")"
   ]
  },
  {
   "cell_type": "markdown",
   "metadata": {},
   "source": [
    "# (e)"
   ]
  },
  {
   "cell_type": "code",
   "execution_count": null,
   "metadata": {},
   "outputs": [],
   "source": []
  },
  {
   "cell_type": "code",
   "execution_count": null,
   "metadata": {},
   "outputs": [],
   "source": []
  },
  {
   "cell_type": "code",
   "execution_count": null,
   "metadata": {},
   "outputs": [],
   "source": []
  },
  {
   "cell_type": "code",
   "execution_count": null,
   "metadata": {},
   "outputs": [],
   "source": []
  }
 ],
 "metadata": {
  "kernelspec": {
   "display_name": "Python 3",
   "language": "python",
   "name": "python3"
  },
  "language_info": {
   "codemirror_mode": {
    "name": "ipython",
    "version": 3
   },
   "file_extension": ".py",
   "mimetype": "text/x-python",
   "name": "python",
   "nbconvert_exporter": "python",
   "pygments_lexer": "ipython3",
   "version": "3.7.6"
  }
 },
 "nbformat": 4,
 "nbformat_minor": 2
}
